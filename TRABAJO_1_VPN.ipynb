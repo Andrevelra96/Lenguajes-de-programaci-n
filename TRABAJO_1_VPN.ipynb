{
  "nbformat": 4,
  "nbformat_minor": 0,
  "metadata": {
    "colab": {
      "provenance": []
    },
    "kernelspec": {
      "name": "python3",
      "display_name": "Python 3"
    },
    "language_info": {
      "name": "python"
    }
  },
  "cells": [
    {
      "cell_type": "code",
      "execution_count": null,
      "metadata": {
        "id": "3lS0Sfwl0Iul"
      },
      "outputs": [],
      "source": []
    },
    {
      "cell_type": "markdown",
      "source": [
        "#VALOR PRESENTE NETO:\n",
        "\n",
        "Es un indicador financiero que se utiliza para evaluar la rentabilidad de un proyecto, inversión o flujo de dinero.\n",
        "\n",
        "El VPN nos indica si la inversion es rentable o no, puesto que muestra si los beneficios futuros superan los costos iniciales teniendo en cuenta el valor del dinero en el tiempo.\n",
        "\n",
        "##Formula del valor presente neto (VPN):\n",
        "\n",
        "\\[\n",
        "$$\n",
        "VPN = \\sum_{t=0}^{n} \\frac{C_t}{(1+r)^t} - C_0\n",
        "$$\n",
        "\\]\n",
        "\n",
        "Donde:\n",
        "- \\(C_t\\) Ees el flujo de caja en el tiempo \\(t).\n",
        "- \\(r\\) Es la tasa de descuento.\n",
        "- \\(n\\) Es el numero total de periodos.\n",
        "- \\(C_0\\) Es la inversion inicial.\n",
        "\n",
        "##Enlace util:\n",
        "\n",
        "Para mayor informacion sobre el VPN, puedes consultar el siguient [enlace](https://es.wikipedia.org/wiki/Valor_actual_neto)\n"
      ],
      "metadata": {
        "id": "llOt3XLB1bhV"
      }
    },
    {
      "cell_type": "code",
      "source": [],
      "metadata": {
        "id": "ufXHKuIC-dD5"
      },
      "execution_count": null,
      "outputs": []
    },
    {
      "cell_type": "markdown",
      "source": [
        "##DESCRIPCION DEL PROYECTO\n",
        "\n",
        " la empresa está considerando un proyecto con una inversión inicial de \\$10,000 y espera recibir flujos de caja de \\$3,000 en cada uno de los próximos tres años. La tasa de descuento es del 5%."
      ],
      "metadata": {
        "id": "xWtg-WWS8ZLW"
      }
    },
    {
      "cell_type": "code",
      "source": [
        "inversion_inicial= 10000\n",
        "Flujo_ano_1 = 3000\n",
        "Flujo_ano_2 = 3000\n",
        "Flujo_ano_3 = 3000\n",
        "tasa_descuento = 0.05"
      ],
      "metadata": {
        "id": "VkaqQVIp_frb"
      },
      "execution_count": 4,
      "outputs": []
    },
    {
      "cell_type": "code",
      "source": [
        "VPN = (Flujo_ano_1 / (1+tasa_descuento)**1) + \\\n",
        "(Flujo_ano_2 / (1+tasa_descuento)**2) + \\\n",
        "(Flujo_ano_3 / (1+tasa_descuento)**3) - inversion_inicial\n",
        "print(\"El valor presente neto (VPN) es:\", VPN)"
      ],
      "metadata": {
        "colab": {
          "base_uri": "https://localhost:8080/"
        },
        "id": "292PRQxPAAZ1",
        "outputId": "2bcd63b2-9165-414f-cb01-1aa3315525d0"
      },
      "execution_count": 5,
      "outputs": [
        {
          "output_type": "stream",
          "name": "stdout",
          "text": [
            "El valor presente neto (VPN) es: -1830.2559118885656\n"
          ]
        }
      ]
    },
    {
      "cell_type": "code",
      "source": [
        "if VPN> 0:\n",
        "    print(\"El proyecto es viable, ya que el VPN es positivo.\")\n",
        "else:\n",
        "    print(\"El proyecto no es viable, ya que el VPN es negativo.\")"
      ],
      "metadata": {
        "colab": {
          "base_uri": "https://localhost:8080/"
        },
        "id": "SWCKJXBJBAsU",
        "outputId": "ccdf1737-5d39-46dd-9701-277ac1e65569"
      },
      "execution_count": 12,
      "outputs": [
        {
          "output_type": "stream",
          "name": "stdout",
          "text": [
            "El proyecto no es viable, ya que el VPN es negativo.\n"
          ]
        }
      ]
    }
  ]
}